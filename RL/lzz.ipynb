{
 "cells": [
  {
   "cell_type": "code",
   "id": "initial_id",
   "metadata": {
    "collapsed": true,
    "ExecuteTime": {
     "end_time": "2025-01-13T07:42:23.433973Z",
     "start_time": "2025-01-13T07:42:23.431817Z"
    }
   },
   "source": [
    "import numpy as np\n",
    "# 创建一个一维数组\n",
    "data_1d = np.array([1, 2, 3, 4, 5])\n",
    "print(\"原始一维数组形状:\", data_1d)\n",
    "# 在维度0上进行拓展（增加一个新的外层维度）\n",
    "data_expanded_0 = data_1d[None, :]\n",
    "print(\"在维度0拓展后的形状:\", data_expanded_0)"
   ],
   "outputs": [
    {
     "name": "stdout",
     "output_type": "stream",
     "text": [
      "原始一维数组形状: [1 2 3 4 5]\n",
      "在维度0拓展后的形状: [[1 2 3 4 5]]\n"
     ]
    }
   ],
   "execution_count": 21
  },
  {
   "metadata": {
    "ExecuteTime": {
     "end_time": "2025-01-13T08:01:59.584093Z",
     "start_time": "2025-01-13T08:01:59.580708Z"
    }
   },
   "cell_type": "code",
   "source": [
    "# 创建一个二维数组（模拟图像数据，形状为高度x宽度）\n",
    "image_data = np.array([[1, 2, 3], [4, 5, 6]])\n",
    "print(\"原始二维数组形状:\", image_data.shape)\n",
    "# 在维度0上拓展\n",
    "image_expanded_0 = image_data[None, :, :]\n",
    "print(\"在维度0拓展后的形状:\", image_expanded_0.shape)\n",
    "# 在维度2上拓展（模拟增加一个通道维度）\n",
    "image_expanded_2 = image_data[:, :, None]\n",
    "print(\"在维度2拓展后的形状:\", image_expanded_2.shape)"
   ],
   "id": "4ec58267849b5c62",
   "outputs": [
    {
     "name": "stdout",
     "output_type": "stream",
     "text": [
      "原始二维数组形状: (2, 3)\n",
      "在维度0拓展后的形状: (1, 2, 3)\n",
      "在维度2拓展后的形状: (2, 3, 1)\n"
     ]
    }
   ],
   "execution_count": 23
  },
  {
   "metadata": {
    "ExecuteTime": {
     "end_time": "2025-01-13T08:40:41.929779Z",
     "start_time": "2025-01-13T08:40:41.708991Z"
    }
   },
   "cell_type": "code",
   "source": [
    "from nes_py.wrappers import JoypadSpace\n",
    "import gym_super_mario_bros\n",
    "from gym_super_mario_bros.actions import SIMPLE_MOVEMENT\n",
    "env = gym_super_mario_bros.make('SuperMarioBros-v0')\n",
    "env = JoypadSpace(env, SIMPLE_MOVEMENT)\n",
    "\n",
    "done = True\n",
    "for step in range(2):\n",
    "    if done:\n",
    "        state = env.reset()\n",
    "    print(env.action_space.sample())\n",
    "    state, reward, done, info = env.step(env.action_space.sample())"
   ],
   "id": "41e08fb9f5480e64",
   "outputs": [
    {
     "name": "stdout",
     "output_type": "stream",
     "text": [
      "3\n",
      "3\n"
     ]
    },
    {
     "name": "stderr",
     "output_type": "stream",
     "text": [
      "/home/lzz/miniconda3/envs/rl_lib/lib/python3.9/site-packages/gym/envs/registration.py:593: UserWarning: \u001B[33mWARN: The environment SuperMarioBros-v0 is out of date. You should consider upgrading to version `v3`.\u001B[0m\n",
      "  logger.warn(\n",
      "/home/lzz/miniconda3/envs/rl_lib/lib/python3.9/site-packages/gym/core.py:329: DeprecationWarning: \u001B[33mWARN: Initializing wrapper in old step API which returns one bool instead of two. It is recommended to set `new_step_api=True` to use new step API. This will be the default behaviour in future.\u001B[0m\n",
      "  deprecation(\n",
      "/home/lzz/miniconda3/envs/rl_lib/lib/python3.9/site-packages/gym/wrappers/step_api_compatibility.py:39: DeprecationWarning: \u001B[33mWARN: Initializing environment in old step API which returns one bool instead of two. It is recommended to set `new_step_api=True` to use new step API. This will be the default behaviour in future.\u001B[0m\n",
      "  deprecation(\n",
      "/home/lzz/miniconda3/envs/rl_lib/lib/python3.9/site-packages/gym/utils/passive_env_checker.py:227: DeprecationWarning: \u001B[33mWARN: Core environment is written in old step API which returns one bool instead of two. It is recommended to rewrite the environment with new step API. \u001B[0m\n",
      "  logger.deprecation(\n",
      "/home/lzz/miniconda3/envs/rl_lib/lib/python3.9/site-packages/gym/utils/passive_env_checker.py:233: DeprecationWarning: `np.bool8` is a deprecated alias for `np.bool_`.  (Deprecated NumPy 1.24)\n",
      "  if not isinstance(done, (bool, np.bool8)):\n"
     ]
    }
   ],
   "execution_count": 27
  }
 ],
 "metadata": {
  "kernelspec": {
   "display_name": "Python 3",
   "language": "python",
   "name": "python3"
  },
  "language_info": {
   "codemirror_mode": {
    "name": "ipython",
    "version": 2
   },
   "file_extension": ".py",
   "mimetype": "text/x-python",
   "name": "python",
   "nbconvert_exporter": "python",
   "pygments_lexer": "ipython2",
   "version": "2.7.6"
  }
 },
 "nbformat": 4,
 "nbformat_minor": 5
}
