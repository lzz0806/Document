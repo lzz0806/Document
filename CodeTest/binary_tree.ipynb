{
 "cells": [
  {
   "cell_type": "code",
   "outputs": [],
   "source": [
    "class TreeNode:\n",
    "\n",
    "    def __init__(self, val):\n",
    "        self.val = val\n",
    "        self.left = None\n",
    "        self.right = None\n",
    "\n",
    "\n",
    "def create_tree() -> TreeNode:\n",
    "    root = TreeNode(1)\n",
    "    root.left = TreeNode(2)\n",
    "    root.right = TreeNode(3)\n",
    "    root.left.left = TreeNode(4)\n",
    "    root.left.right = TreeNode(5)\n",
    "    root.right.left = TreeNode(6)\n",
    "    root.right.right = TreeNode(7)\n",
    "    return root"
   ],
   "metadata": {
    "collapsed": false,
    "ExecuteTime": {
     "end_time": "2025-03-01T08:32:07.708521Z",
     "start_time": "2025-03-01T08:32:07.705505Z"
    }
   },
   "id": "449be8df2e46f577",
   "execution_count": 1
  },
  {
   "cell_type": "markdown",
   "source": [
    "### LeetCode111 二叉树的最小深度"
   ],
   "metadata": {
    "collapsed": false
   },
   "id": "77a5623ca364bc3a"
  },
  {
   "cell_type": "code",
   "execution_count": 6,
   "id": "initial_id",
   "metadata": {
    "collapsed": true,
    "ExecuteTime": {
     "end_time": "2025-03-01T08:45:20.977955Z",
     "start_time": "2025-03-01T08:45:20.971657Z"
    }
   },
   "outputs": [
    {
     "name": "stdout",
     "output_type": "stream",
     "text": [
      "3\n"
     ]
    }
   ],
   "source": [
    "class Solution:\n",
    "    \n",
    "    def __init__(self):\n",
    "        self.cur_depth = 0\n",
    "        self.min_depth_value = 10000\n",
    "    \n",
    "    def min_depth(self, root: TreeNode):\n",
    "        if root is None:\n",
    "            return 0\n",
    "        self.cur_depth += 1\n",
    "        if root.left is None and root.right is None:\n",
    "            self.min_depth_value = min(self.cur_depth, self.min_depth_value)\n",
    "        self.min_depth(root.left)\n",
    "        self.min_depth(root.right)\n",
    "        self.cur_depth -= 1\n",
    "        return self.min_depth_value\n",
    "\n",
    "s = Solution()\n",
    "print(s.min_depth(create_tree()))\n"
   ]
  },
  {
   "cell_type": "code",
   "outputs": [
    {
     "name": "stdout",
     "output_type": "stream",
     "text": [
      "[]\n"
     ]
    }
   ],
   "source": [
    "class Solution:\n",
    "    \n",
    "    def connect(self, root: TreeNode) -> None:\n",
    "        res = []\n",
    "        if not root:\n",
    "            return\n",
    "        queue = [root]\n",
    "\n",
    "        while queue:\n",
    "            tmp = []\n",
    "            for _ in range(len(queue)):\n",
    "                node = queue.pop(0)\n",
    "                tmp.append(node)\n",
    "                if node.left is not None:\n",
    "                    queue.append(node.left)\n",
    "                if node.right is not None:\n",
    "                    queue.append(node.right)\n",
    "            # if len(tmp) > 0:\n",
    "            #     start = tmp[0]\n",
    "            #     while tmp:\n",
    "            #         node = tmp.pop(0)\n",
    "            #         tmp_node = node\n",
    "            #         start.next = node\n",
    "            #         start = tmp_node\n",
    "        return res\n",
    "s = Solution()\n",
    "print(s.connect(create_tree()))"
   ],
   "metadata": {
    "collapsed": false,
    "ExecuteTime": {
     "end_time": "2025-03-01T09:46:11.399685Z",
     "start_time": "2025-03-01T09:46:11.393661Z"
    }
   },
   "id": "1ea2c27f874add6f",
   "execution_count": 14
  },
  {
   "cell_type": "code",
   "outputs": [
    {
     "name": "stdout",
     "output_type": "stream",
     "text": [
      "['(((())))', '((()()))', '((())())', '((()))()', '(()(()))', '(()()())', '(()())()', '(())(())', '(())()()', '()((()))', '()(()())', '()(())()', '()()(())', '()()()()']\n"
     ]
    }
   ],
   "source": [
    "from typing import List\n",
    "\n",
    "class Solution:\n",
    "    \n",
    "    def __init__(self):\n",
    "        self.res = []\n",
    "    \n",
    "    def generateParenthesis(self, n: int) -> List[str]:\n",
    "        def traverse(m, left_nums, right_nums):\n",
    "            if left_nums < right_nums:\n",
    "                return\n",
    "            if left_nums > n:\n",
    "                return\n",
    "            if len(m) == 2 * n:\n",
    "                self.res.append(\"\".join(m))\n",
    "                return \n",
    "            for i in [\"(\", \")\"]:\n",
    "                if i == \"(\":\n",
    "                    m.append(i)\n",
    "                    \n",
    "                    left_nums += 1\n",
    "                    traverse(m, left_nums, right_nums)\n",
    "                    left_nums -= 1\n",
    "                    m.pop()\n",
    "                if i == \")\":\n",
    "                    m.append(i)\n",
    "                    right_nums += 1\n",
    "                    traverse(m, left_nums, right_nums)\n",
    "                    right_nums -= 1\n",
    "                    m.pop()\n",
    "        traverse([], 0, 0)\n",
    "        return self.res\n",
    "\n",
    "s = Solution()\n",
    "print(s.generateParenthesis(4))"
   ],
   "metadata": {
    "collapsed": false,
    "ExecuteTime": {
     "end_time": "2025-03-01T13:41:57.619089Z",
     "start_time": "2025-03-01T13:41:57.610820Z"
    }
   },
   "id": "9283d9370b5b54d6",
   "execution_count": 25
  },
  {
   "cell_type": "code",
   "source": [
    "class TreeNode:\n",
    "\n",
    "    def __init__(self, val):\n",
    "        self.val = val\n",
    "        self.left = None\n",
    "        self.right = None\n",
    "\n",
    "\n",
    "def create_tree() -> TreeNode:\n",
    "    root = TreeNode(1)\n",
    "    root.left = TreeNode(2)\n",
    "    root.right = TreeNode(3)\n",
    "    root.left.left = TreeNode(4)\n",
    "    root.left.right = TreeNode(5)\n",
    "    root.right.left = TreeNode(6)\n",
    "    root.right.right = TreeNode(7)\n",
    "    return root\n",
    "\n",
    "class Solution:\n",
    "    \n",
    "    def __init__(self):\n",
    "        self.res = []\n",
    "        self.depth = 100000\n",
    "    \n",
    "    def min_depth(self, root: TreeNode):\n",
    "        if not root:\n",
    "            return 0\n",
    "        \n",
    "        queue = [root]\n",
    "        depth = 1\n",
    "        while queue:\n",
    "            sz = len(queue)\n",
    "            for _ in range(sz):\n",
    "                node = queue.pop(0)\n",
    "                if not node.left and not node.right:\n",
    "                    return depth\n",
    "                if node.left is not None:\n",
    "                    queue.append(node.left)\n",
    "                if node.right is not None:\n",
    "                    queue.append(node.right)\n",
    "            depth += 1\n",
    "    def min_depth_1(self, root: TreeNode, depth):\n",
    "        if not root:\n",
    "            return 0\n",
    "        depth += 1\n",
    "        self.min_depth_1(root.left, depth)\n",
    "        self.min_depth_1(root.right, depth)\n",
    "        if root.left is None and root.right is None:\n",
    "            self.depth = min(depth, self.depth)\n",
    "            return self.depth\n",
    "        depth -= 1\n",
    "        return self.depth\n",
    "\n",
    "s = Solution()\n",
    "# print(s.min_depth(create_tree()))\n",
    "print(s.min_depth_1(create_tree(), 0))\n",
    "                "
   ],
   "metadata": {
    "collapsed": false,
    "ExecuteTime": {
     "end_time": "2025-03-19T05:08:45.027456Z",
     "start_time": "2025-03-19T05:08:45.023676Z"
    }
   },
   "id": "2b50aff6b1b7236d",
   "outputs": [
    {
     "name": "stdout",
     "output_type": "stream",
     "text": [
      "3\n"
     ]
    }
   ],
   "execution_count": 28
  }
 ],
 "metadata": {
  "kernelspec": {
   "display_name": "Python 3",
   "language": "python",
   "name": "python3"
  },
  "language_info": {
   "codemirror_mode": {
    "name": "ipython",
    "version": 2
   },
   "file_extension": ".py",
   "mimetype": "text/x-python",
   "name": "python",
   "nbconvert_exporter": "python",
   "pygments_lexer": "ipython2",
   "version": "2.7.6"
  }
 },
 "nbformat": 4,
 "nbformat_minor": 5
}
