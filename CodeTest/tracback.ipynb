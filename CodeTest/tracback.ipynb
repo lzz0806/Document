{
 "cells": [
  {
   "cell_type": "code",
   "id": "initial_id",
   "metadata": {
    "collapsed": true,
    "ExecuteTime": {
     "end_time": "2025-02-20T09:07:01.205606Z",
     "start_time": "2025-02-20T09:07:01.201093Z"
    }
   },
   "source": [
    "from typing import List\n",
    "\n",
    "from numpy.testing.print_coercion_tables import print_new_cast_table\n",
    "from torch.onnx.symbolic_opset9 import prim_uninitialized\n",
    "\n",
    "\n",
    "class Solution:\n",
    "    def __init__(self):\n",
    "        self.res = []\n",
    "\n",
    "    # 主函数，输入一组不重复的数字，返回它们的全排列\n",
    "    def permute(self, nums: List[int]) -> List[List[int]]:\n",
    "        # 记录「路径」\n",
    "        track = []\n",
    "        # 「路径」中的元素会被标记为 true，避免重复使用\n",
    "        used = [False] * len(nums)\n",
    "        \n",
    "        self.backtrack(nums, track, used)\n",
    "        return self.res\n",
    "\n",
    "    # 路径：记录在 track 中\n",
    "    # 选择列表：nums 中不存在于 track 的那些元素（used[i] 为 false）\n",
    "    # 结束条件：nums 中的元素全都在 track 中出现\n",
    "    def backtrack(self, nums: List[int], track: List[int], used: List[bool]):\n",
    "        # 触发结束条件\n",
    "        if len(track) == len(nums):\n",
    "            self.res.append(track.copy())\n",
    "            return\n",
    "        \n",
    "        for i in range(len(nums)):\n",
    "            # 排除不合法的选择\n",
    "            if used[i]: \n",
    "\n",
    "                # nums[i] 已经在 track 中，跳过\n",
    "                continue\n",
    "            # 做选择\n",
    "            track.append(nums[i])\n",
    "            used[i] = True\n",
    "            # 进入下一层决策树\n",
    "            self.backtrack(nums, track, used)\n",
    "            # 取消选择\n",
    "            track.pop()\n",
    "            used[i] = False\n",
    "\n",
    "s = Solution()\n",
    "print(s.permute([1,2,3]))"
   ],
   "outputs": [
    {
     "name": "stdout",
     "output_type": "stream",
     "text": [
      "[[1, 2, 3], [1, 3, 2], [2, 1, 3], [2, 3, 1], [3, 1, 2], [3, 2, 1]]\n"
     ]
    }
   ],
   "execution_count": 1
  },
  {
   "metadata": {
    "ExecuteTime": {
     "end_time": "2025-02-20T09:29:19.085067Z",
     "start_time": "2025-02-20T09:29:19.081230Z"
    }
   },
   "cell_type": "code",
   "source": [
    "from typing import List\n",
    "\n",
    "class Solution:\n",
    "    def __init__(self):\n",
    "        self.res = []\n",
    "        self.track = []\n",
    "\n",
    "    def subset(self, nums: List[int]) -> List[List[int]]:\n",
    "      \n",
    "        self.backtrack(nums, 0, [])\n",
    "        return self.res\n",
    "\n",
    "    def backtrack(self, nums: List[int], start: int, track):\n",
    "        self.res.append(list(track))\n",
    "        \n",
    "        for i in range(start, len(nums)):\n",
    "            track.append(nums[i])\n",
    "            self.backtrack(nums, i + 1, track)\n",
    "            track.pop()\n",
    "s = Solution()\n",
    "s.subset([1,2,3])"
   ],
   "id": "5682a7a72f10e28",
   "outputs": [
    {
     "data": {
      "text/plain": [
       "[[], [1], [1, 2], [1, 2, 3], [1, 3], [2], [2, 3], [3]]"
      ]
     },
     "execution_count": 13,
     "metadata": {},
     "output_type": "execute_result"
    }
   ],
   "execution_count": 13
  },
  {
   "metadata": {
    "ExecuteTime": {
     "end_time": "2025-02-20T09:37:25.791368Z",
     "start_time": "2025-02-20T09:37:25.787738Z"
    }
   },
   "cell_type": "code",
   "source": [
    "from typing import List\n",
    "\n",
    "class Solution:\n",
    "    def __init__(self):\n",
    "        self.res = []\n",
    "        self.track = []\n",
    "\n",
    "    def combine(self, n: int, k:int) -> List[List[int]]:\n",
    "      \n",
    "        self.backtrack(n, 0, [], k)\n",
    "        return self.res\n",
    "\n",
    "    def backtrack(self, nums: int, start: int, track, level):\n",
    "        if len(track) == level:\n",
    "            self.res.append(list(track))\n",
    "            return\n",
    "        \n",
    "        for i in range(start, nums):\n",
    "            track.append(i+1)\n",
    "            self.backtrack(nums, i + 1, track, level)\n",
    "            track.pop()\n",
    "s = Solution()\n",
    "s.combine(4, 1)"
   ],
   "id": "2f9e9d85a3459ea",
   "outputs": [
    {
     "data": {
      "text/plain": [
       "[[1], [2], [3], [4]]"
      ]
     },
     "execution_count": 18,
     "metadata": {},
     "output_type": "execute_result"
    }
   ],
   "execution_count": 18
  },
  {
   "metadata": {
    "ExecuteTime": {
     "end_time": "2025-02-20T09:43:04.592293Z",
     "start_time": "2025-02-20T09:43:04.588322Z"
    }
   },
   "cell_type": "code",
   "source": [
    "from typing import List\n",
    "\n",
    "class Solution:\n",
    "    def __init__(self):\n",
    "        self.res = []\n",
    "        self.track = []\n",
    "\n",
    "    def subset(self, nums: List[int]) -> List[List[int]]:\n",
    "      \n",
    "        self.backtrack(nums, 0, [])\n",
    "        return self.res\n",
    "\n",
    "    def backtrack(self, nums: List[int], start: int, track):\n",
    "        self.res.append(list(track))\n",
    "        \n",
    "        for i in range(start, len(nums)):\n",
    "            if i > start and nums[i] == nums[i-1]:\n",
    "                continue\n",
    "            track.append(nums[i])\n",
    "            self.backtrack(nums, i + 1, track)\n",
    "            track.pop()\n",
    "s = Solution()\n",
    "s.subset([1,2,2])"
   ],
   "id": "caefed3a5aa20689",
   "outputs": [
    {
     "name": "stdout",
     "output_type": "stream",
     "text": [
      "0 0 False\n",
      "1 1 False\n",
      "2 2 False\n",
      "2 1 True\n",
      "1 0 True\n",
      "2 2 False\n",
      "2 0 True\n"
     ]
    },
    {
     "data": {
      "text/plain": [
       "[[], [1], [1, 2], [1, 2, 2], [2], [2, 2]]"
      ]
     },
     "execution_count": 22,
     "metadata": {},
     "output_type": "execute_result"
    }
   ],
   "execution_count": 22
  },
  {
   "metadata": {
    "ExecuteTime": {
     "end_time": "2025-02-20T10:00:36.910345Z",
     "start_time": "2025-02-20T10:00:36.906934Z"
    }
   },
   "cell_type": "code",
   "source": [
    "from typing import List\n",
    "\n",
    "class Solution:\n",
    "    def __init__(self):\n",
    "        self.res = []\n",
    "        self.track = []\n",
    "\n",
    "    # 主函数，输入一组不重复的数字，返回它们的全排列\n",
    "    def permute(self, nums: List[int]) -> List[List[int]]:\n",
    "        nums.sort()\n",
    "        used = [False] * len(nums)\n",
    "        self.backtrack(nums, used)\n",
    "        return self.res\n",
    "    \n",
    "    def backtrack(self, nums: List[int], used: List[bool]):\n",
    "        if len(self.track) == len(nums):\n",
    "            self.res.append(self.track.copy())\n",
    "            return\n",
    "        \n",
    "        for i in range(len(nums)):\n",
    "            if used[i]:\n",
    "                continue\n",
    "            if i > 0 and nums[i] == nums[i-1] and not used[i-1]: \n",
    "                continue\n",
    "            self.track.append(nums[i])\n",
    "            used[i] = True\n",
    "            self.backtrack(nums, used)\n",
    "            self.track.pop()\n",
    "            used[i] = False\n",
    "\n",
    "s = Solution()\n",
    "print(s.permute([1,2,2]))"
   ],
   "id": "6120bad428169ab2",
   "outputs": [
    {
     "name": "stdout",
     "output_type": "stream",
     "text": [
      "27\n"
     ]
    }
   ],
   "execution_count": 32
  },
  {
   "metadata": {
    "ExecuteTime": {
     "end_time": "2025-02-21T02:22:01.793702Z",
     "start_time": "2025-02-21T02:22:01.791099Z"
    }
   },
   "cell_type": "code",
   "source": [
    "from collections import Counter\n",
    "from typing import List\n",
    "\n",
    "class Solution:\n",
    "    def generateParenthesis(self, n: int) -> List[str]:\n",
    "        res = []\n",
    "        track = []\n",
    "        def backtrack(nums, track):\n",
    "            if len(track) == nums*2:\n",
    "                res.append(''.join(track.copy()))\n",
    "                return\n",
    "\n",
    "            for i in [\"(\", \")\"]:\n",
    "                track.append(i)\n",
    "                backtrack(nums, track)\n",
    "                track.pop()\n",
    "        backtrack(n, track)\n",
    "        return res\n",
    "\n",
    "s = Solution()\n",
    "# print(s.generateParenthesis(3))"
   ],
   "id": "45f5f9d3e10dd5ff",
   "outputs": [],
   "execution_count": 61
  },
  {
   "metadata": {
    "ExecuteTime": {
     "end_time": "2025-02-21T02:58:23.557669Z",
     "start_time": "2025-02-21T02:58:23.554427Z"
    }
   },
   "cell_type": "code",
   "source": [
    "class Solution:\n",
    "    \n",
    "    def __init__(self):\n",
    "        self.res = 0\n",
    "        \n",
    "    def nums_island(self, grid) -> int:\n",
    "        m, n = len(grid), len(grid[0])\n",
    "        for i in range(m):\n",
    "            for j in range(n):\n",
    "                if grid[i][j] == 1:\n",
    "                    # self.res += 1\n",
    "                    self.dfs(grid, i, j)\n",
    "                    self.res += 1\n",
    "        return self.res\n",
    "    \n",
    "    def dfs(self, grid, m, n):\n",
    "        if m < 0 or n < 0 or m >= len(grid) or n >= len(grid[0]) or grid[m][n] == 0:\n",
    "            return \n",
    "        grid[m][n] = 0\n",
    "        self.dfs(grid, m-1, n)\n",
    "        self.dfs(grid, m+1, n)\n",
    "        self.dfs(grid, m, n-1)\n",
    "        self.dfs(grid, m, n+1)\n",
    "s = Solution()\n",
    "val = [[1, 1, 0, 1, 1], [1, 0, 0, 0, 0], [0, 0, 0, 0, 1], [1, 1, 0, 1, 1]]\n",
    "print(s.nums_island(val))"
   ],
   "id": "bc12bee792ceb58b",
   "outputs": [
    {
     "name": "stdout",
     "output_type": "stream",
     "text": [
      "[[0, 0, 0, 0, 0], [0, 0, 0, 0, 0], [0, 0, 0, 0, 0], [0, 0, 0, 0, 0]]\n",
      "4\n"
     ]
    }
   ],
   "execution_count": 70
  },
  {
   "metadata": {
    "ExecuteTime": {
     "end_time": "2025-02-21T02:58:14.969504Z",
     "start_time": "2025-02-21T02:58:14.965969Z"
    }
   },
   "cell_type": "code",
   "source": [
    "class Solution:\n",
    "    \n",
    "    def __init__(self):\n",
    "        self.res = 0\n",
    "        \n",
    "    def nums_island_2(self, grid) -> int:\n",
    "        m, n = len(grid), len(grid[0])\n",
    "        for i in range(m):\n",
    "            # 第一列\n",
    "            self.dfs(grid, i, 0)\n",
    "        for i in range(m):\n",
    "            # 最后一列\n",
    "            self.dfs(grid, i, n-1)\n",
    "        for i in range(n):\n",
    "            # 第一行\n",
    "            self.dfs(grid, 0, i)\n",
    "        for i in range(n):\n",
    "            # 最后一行\n",
    "            self.dfs(grid, m, i)\n",
    "        \n",
    "        for i in range(m):\n",
    "            for j in range(n):\n",
    "                if grid[i][j] == 0:\n",
    "                    # self.res += 1\n",
    "                    self.dfs(grid, i, j)\n",
    "                    self.res += 1\n",
    "        return self.res\n",
    "    \n",
    "    def dfs(self, grid, m, n):\n",
    "        if m < 0 or n < 0 or m >= len(grid) or n >= len(grid[0]) or grid[m][n] == 1:\n",
    "            return \n",
    "        grid[m][n] = 1\n",
    "        self.dfs(grid, m-1, n)\n",
    "        self.dfs(grid, m+1, n)\n",
    "        self.dfs(grid, m, n-1)\n",
    "        self.dfs(grid, m, n+1)\n",
    "s = Solution()\n",
    "val = [[1, 1, 1], [1, 0, 1], [1, 1, 1]]\n",
    "print(s.nums_island_2(val))"
   ],
   "id": "67262cca662be95c",
   "outputs": [
    {
     "name": "stdout",
     "output_type": "stream",
     "text": [
      "[[1, 1, 1], [1, 1, 1], [1, 1, 1]]\n",
      "1\n"
     ]
    }
   ],
   "execution_count": 69
  },
  {
   "metadata": {
    "ExecuteTime": {
     "end_time": "2025-02-21T03:04:43.743079Z",
     "start_time": "2025-02-21T03:04:43.740843Z"
    }
   },
   "cell_type": "code",
   "source": "10 ** 2",
   "id": "42a918336d6ed11a",
   "outputs": [
    {
     "data": {
      "text/plain": [
       "100"
      ]
     },
     "execution_count": 73,
     "metadata": {},
     "output_type": "execute_result"
    }
   ],
   "execution_count": 73
  },
  {
   "metadata": {
    "ExecuteTime": {
     "end_time": "2025-03-04T03:04:58.258224Z",
     "start_time": "2025-03-04T03:04:58.249480Z"
    }
   },
   "cell_type": "code",
   "source": [
    "from typing import List\n",
    "\n",
    "class Solution:\n",
    "    def __init__(self):\n",
    "        self.res = []\n",
    "        self.track = 0\n",
    "\n",
    "    def nums_same(self, n: int, k: int) -> List[List[int]]:\n",
    "      \n",
    "        self.backtrack(n, k, 2)\n",
    "        return self.res\n",
    "\n",
    "    def backtrack(self, m: int, n: int, level):\n",
    "        # m = 3, n = 7\n",
    "        if 0 < self.track // (10 ** (m-1)) < 10:\n",
    "            self.res.append(self.track)\n",
    "            return\n",
    "        for i in range(1, 10):\n",
    "            if i - n < 0 and i + n >= 10:\n",
    "                continue\n",
    "            if self.track > 0 and abs(i - (self.track % 10)) != n:\n",
    "                continue\n",
    "            self.track += i * 10 ** level\n",
    "            self.backtrack(m, n, level - 1)\n",
    "            self.track -= i * 10 ** level\n",
    "s = Solution()\n",
    "s.nums_same(3, 7)"
   ],
   "id": "25c8594ac8b6226b",
   "outputs": [
    {
     "data": {
      "text/plain": [
       "[100, 200, 700, 800, 900]"
      ]
     },
     "execution_count": 1,
     "metadata": {},
     "output_type": "execute_result"
    }
   ],
   "execution_count": 1
  },
  {
   "metadata": {
    "ExecuteTime": {
     "end_time": "2025-02-24T09:02:24.330334Z",
     "start_time": "2025-02-24T09:02:24.327287Z"
    }
   },
   "cell_type": "code",
   "source": [
    "class Solution:\n",
    "    def __init__(self):\n",
    "        self.res = 0\n",
    "        self.track = []\n",
    "    \n",
    "    def count_arrangement(self, n: int):\n",
    "        used = [False] * n\n",
    "        self.backtrack(n, used)\n",
    "        return self.res\n",
    "    \n",
    "    def backtrack(self, m, used):\n",
    "        if len(self.track) == m:\n",
    "            self.res += 1\n",
    "            return\n",
    "        for i in range(m):\n",
    "            if used[i]:\n",
    "                continue\n",
    "            val = i+1\n",
    "            if not (val % (len(self.track) + 1) == 0 or (len(self.track) + 1) % val == 0):\n",
    "                continue\n",
    "            self.track.append(val)\n",
    "            used[i] = True\n",
    "            self.backtrack(m, used)\n",
    "            self.track.pop()\n",
    "            used[i] = False\n",
    "s = Solution()\n",
    "print(s.count_arrangement(2))\n",
    "        "
   ],
   "id": "27398d29d05cbf1",
   "outputs": [
    {
     "name": "stdout",
     "output_type": "stream",
     "text": [
      "2\n"
     ]
    }
   ],
   "execution_count": 23
  },
  {
   "metadata": {
    "ExecuteTime": {
     "end_time": "2025-02-24T09:11:03.765207Z",
     "start_time": "2025-02-24T09:11:03.762475Z"
    }
   },
   "cell_type": "code",
   "source": [
    "class Solution:\n",
    "    \n",
    "    def __init__(self):\n",
    "        self.res = []\n",
    "        self.num2e = {\"2\": \"abc\", \"3\": \"def\", \"4\": \"ghi\", \"5\": \"jkl\", \"6\": \"mno\", \"7\": \"pqrs\", \"8\": \"tuv\", \"9\": \"wxyz\"}\n",
    "        \n",
    "    def number_of_telephones(self, n: str):\n",
    "        self.backtrack(n, '')\n",
    "        return self.res\n",
    "    \n",
    "    def backtrack(self, n, track):\n",
    "        if len(n) == 0:\n",
    "            self.res.append(track)\n",
    "            return\n",
    "        for i in self.num2e[n[0]]:\n",
    "            track += i\n",
    "            self.backtrack(n[1:], track)\n",
    "            track = track[:-1]\n",
    "s = Solution()\n",
    "print(s.number_of_telephones(\"27\"))"
   ],
   "id": "8a004b23cb326c44",
   "outputs": [
    {
     "name": "stdout",
     "output_type": "stream",
     "text": [
      "['ap', 'aq', 'ar', 'as', 'bp', 'bq', 'br', 'bs', 'cp', 'cq', 'cr', 'cs']\n"
     ]
    }
   ],
   "execution_count": 40
  },
  {
   "metadata": {
    "ExecuteTime": {
     "end_time": "2025-02-24T09:09:04.278339Z",
     "start_time": "2025-02-24T09:09:04.276620Z"
    }
   },
   "cell_type": "code",
   "source": "",
   "id": "50bcb1a585d475e5",
   "outputs": [
    {
     "name": "stdout",
     "output_type": "stream",
     "text": [
      "ea\n"
     ]
    }
   ],
   "execution_count": 35
  }
 ],
 "metadata": {
  "kernelspec": {
   "display_name": "Python 3",
   "language": "python",
   "name": "python3"
  },
  "language_info": {
   "codemirror_mode": {
    "name": "ipython",
    "version": 2
   },
   "file_extension": ".py",
   "mimetype": "text/x-python",
   "name": "python",
   "nbconvert_exporter": "python",
   "pygments_lexer": "ipython2",
   "version": "2.7.6"
  }
 },
 "nbformat": 4,
 "nbformat_minor": 5
}
