{
 "cells": [
  {
   "cell_type": "code",
   "id": "initial_id",
   "metadata": {
    "collapsed": true,
    "ExecuteTime": {
     "end_time": "2025-02-20T09:07:01.205606Z",
     "start_time": "2025-02-20T09:07:01.201093Z"
    }
   },
   "source": [
    "from typing import List\n",
    "\n",
    "from torch.onnx.symbolic_opset9 import prim_uninitialized\n",
    "\n",
    "\n",
    "class Solution:\n",
    "    def __init__(self):\n",
    "        self.res = []\n",
    "\n",
    "    # 主函数，输入一组不重复的数字，返回它们的全排列\n",
    "    def permute(self, nums: List[int]) -> List[List[int]]:\n",
    "        # 记录「路径」\n",
    "        track = []\n",
    "        # 「路径」中的元素会被标记为 true，避免重复使用\n",
    "        used = [False] * len(nums)\n",
    "        \n",
    "        self.backtrack(nums, track, used)\n",
    "        return self.res\n",
    "\n",
    "    # 路径：记录在 track 中\n",
    "    # 选择列表：nums 中不存在于 track 的那些元素（used[i] 为 false）\n",
    "    # 结束条件：nums 中的元素全都在 track 中出现\n",
    "    def backtrack(self, nums: List[int], track: List[int], used: List[bool]):\n",
    "        # 触发结束条件\n",
    "        if len(track) == len(nums):\n",
    "            self.res.append(track.copy())\n",
    "            return\n",
    "        \n",
    "        for i in range(len(nums)):\n",
    "            # 排除不合法的选择\n",
    "            if used[i]: \n",
    "\n",
    "                # nums[i] 已经在 track 中，跳过\n",
    "                continue\n",
    "            # 做选择\n",
    "            track.append(nums[i])\n",
    "            used[i] = True\n",
    "            # 进入下一层决策树\n",
    "            self.backtrack(nums, track, used)\n",
    "            # 取消选择\n",
    "            track.pop()\n",
    "            used[i] = False\n",
    "\n",
    "s = Solution()\n",
    "print(s.permute([1,2,3]))"
   ],
   "outputs": [
    {
     "name": "stdout",
     "output_type": "stream",
     "text": [
      "[[1, 2, 3], [1, 3, 2], [2, 1, 3], [2, 3, 1], [3, 1, 2], [3, 2, 1]]\n"
     ]
    }
   ],
   "execution_count": 1
  },
  {
   "metadata": {
    "ExecuteTime": {
     "end_time": "2025-02-20T09:29:19.085067Z",
     "start_time": "2025-02-20T09:29:19.081230Z"
    }
   },
   "cell_type": "code",
   "source": [
    "from typing import List\n",
    "\n",
    "class Solution:\n",
    "    def __init__(self):\n",
    "        self.res = []\n",
    "        self.track = []\n",
    "\n",
    "    def subset(self, nums: List[int]) -> List[List[int]]:\n",
    "      \n",
    "        self.backtrack(nums, 0, [])\n",
    "        return self.res\n",
    "\n",
    "    def backtrack(self, nums: List[int], start: int, track):\n",
    "        self.res.append(list(track))\n",
    "        \n",
    "        for i in range(start, len(nums)):\n",
    "            track.append(nums[i])\n",
    "            self.backtrack(nums, i + 1, track)\n",
    "            track.pop()\n",
    "s = Solution()\n",
    "s.subset([1,2,3])"
   ],
   "id": "5682a7a72f10e28",
   "outputs": [
    {
     "data": {
      "text/plain": [
       "[[], [1], [1, 2], [1, 2, 3], [1, 3], [2], [2, 3], [3]]"
      ]
     },
     "execution_count": 13,
     "metadata": {},
     "output_type": "execute_result"
    }
   ],
   "execution_count": 13
  },
  {
   "metadata": {
    "ExecuteTime": {
     "end_time": "2025-02-20T09:37:25.791368Z",
     "start_time": "2025-02-20T09:37:25.787738Z"
    }
   },
   "cell_type": "code",
   "source": [
    "from typing import List\n",
    "\n",
    "class Solution:\n",
    "    def __init__(self):\n",
    "        self.res = []\n",
    "        self.track = []\n",
    "\n",
    "    def combine(self, n: int, k:int) -> List[List[int]]:\n",
    "      \n",
    "        self.backtrack(n, 0, [], k)\n",
    "        return self.res\n",
    "\n",
    "    def backtrack(self, nums: int, start: int, track, level):\n",
    "        if len(track) == level:\n",
    "            self.res.append(list(track))\n",
    "            return\n",
    "        \n",
    "        for i in range(start, nums):\n",
    "            track.append(i+1)\n",
    "            self.backtrack(nums, i + 1, track, level)\n",
    "            track.pop()\n",
    "s = Solution()\n",
    "s.combine(4, 1)"
   ],
   "id": "2f9e9d85a3459ea",
   "outputs": [
    {
     "data": {
      "text/plain": [
       "[[1], [2], [3], [4]]"
      ]
     },
     "execution_count": 18,
     "metadata": {},
     "output_type": "execute_result"
    }
   ],
   "execution_count": 18
  },
  {
   "metadata": {
    "ExecuteTime": {
     "end_time": "2025-02-20T09:43:04.592293Z",
     "start_time": "2025-02-20T09:43:04.588322Z"
    }
   },
   "cell_type": "code",
   "source": [
    "from typing import List\n",
    "\n",
    "class Solution:\n",
    "    def __init__(self):\n",
    "        self.res = []\n",
    "        self.track = []\n",
    "\n",
    "    def subset(self, nums: List[int]) -> List[List[int]]:\n",
    "      \n",
    "        self.backtrack(nums, 0, [])\n",
    "        return self.res\n",
    "\n",
    "    def backtrack(self, nums: List[int], start: int, track):\n",
    "        self.res.append(list(track))\n",
    "        \n",
    "        for i in range(start, len(nums)):\n",
    "            if i > start and nums[i] == nums[i-1]:\n",
    "                continue\n",
    "            track.append(nums[i])\n",
    "            self.backtrack(nums, i + 1, track)\n",
    "            track.pop()\n",
    "s = Solution()\n",
    "s.subset([1,2,2])"
   ],
   "id": "caefed3a5aa20689",
   "outputs": [
    {
     "name": "stdout",
     "output_type": "stream",
     "text": [
      "0 0 False\n",
      "1 1 False\n",
      "2 2 False\n",
      "2 1 True\n",
      "1 0 True\n",
      "2 2 False\n",
      "2 0 True\n"
     ]
    },
    {
     "data": {
      "text/plain": [
       "[[], [1], [1, 2], [1, 2, 2], [2], [2, 2]]"
      ]
     },
     "execution_count": 22,
     "metadata": {},
     "output_type": "execute_result"
    }
   ],
   "execution_count": 22
  },
  {
   "metadata": {
    "ExecuteTime": {
     "end_time": "2025-02-20T10:00:36.910345Z",
     "start_time": "2025-02-20T10:00:36.906934Z"
    }
   },
   "cell_type": "code",
   "source": [
    "from typing import List\n",
    "\n",
    "class Solution:\n",
    "    def __init__(self):\n",
    "        self.res = []\n",
    "        self.track = []\n",
    "\n",
    "    # 主函数，输入一组不重复的数字，返回它们的全排列\n",
    "    def permute(self, nums: List[int]) -> List[List[int]]:\n",
    "        nums.sort()\n",
    "        used = [False] * len(nums)\n",
    "        self.backtrack(nums, used)\n",
    "        return self.res\n",
    "    \n",
    "    def backtrack(self, nums: List[int], used: List[bool]):\n",
    "        if len(self.track) == len(nums):\n",
    "            self.res.append(self.track.copy())\n",
    "            return\n",
    "        \n",
    "        for i in range(len(nums)):\n",
    "            if used[i]:\n",
    "                continue\n",
    "            if i > 0 and nums[i] == nums[i-1] and not used[i-1]: \n",
    "                continue\n",
    "            self.track.append(nums[i])\n",
    "            used[i] = True\n",
    "            self.backtrack(nums, used)\n",
    "            self.track.pop()\n",
    "            used[i] = False\n",
    "\n",
    "s = Solution()\n",
    "print(s.permute([1,2,2]))"
   ],
   "id": "6120bad428169ab2",
   "outputs": [
    {
     "name": "stdout",
     "output_type": "stream",
     "text": [
      "27\n"
     ]
    }
   ],
   "execution_count": 32
  },
  {
   "metadata": {
    "ExecuteTime": {
     "end_time": "2025-02-20T10:19:35.475551Z",
     "start_time": "2025-02-20T10:19:35.472402Z"
    }
   },
   "cell_type": "code",
   "source": [
    "from collections import Counter\n",
    "from typing import List\n",
    "\n",
    "class Solution:\n",
    "    def generateParenthesis(self, n: int) -> List[str]:\n",
    "        res = []\n",
    "        track = []\n",
    "        def backtrack(nums, track):\n",
    "            count = Counter(track)\n",
    "            if count[\")\"] > count[\"(\"]:\n",
    "                return\n",
    "            if count[\")\"] > nums or count[\"(\"] > nums:\n",
    "                return\n",
    "            if len(track) == nums*2:\n",
    "                res.append(''.join(track.copy()))\n",
    "                return\n",
    "\n",
    "            for i in [\"(\", \")\"]:\n",
    "                track.append(i)\n",
    "                backtrack(nums, track)\n",
    "                track.pop()\n",
    "        backtrack(n, track)\n",
    "        return res\n",
    "\n",
    "s = Solution()\n",
    "print(s.generateParenthesis(3))"
   ],
   "id": "45f5f9d3e10dd5ff",
   "outputs": [
    {
     "name": "stdout",
     "output_type": "stream",
     "text": [
      "[['(', '(', '(', '(', '(', '('], ['(', '(', '(', '(', '(', ')'], ['(', '(', '(', '(', ')', '('], ['(', '(', '(', '(', ')', ')'], ['(', '(', '(', ')', '(', '('], ['(', '(', '(', ')', '(', ')'], ['(', '(', '(', ')', ')', '('], ['(', '(', '(', ')', ')', ')'], ['(', '(', ')', '(', '(', '('], ['(', '(', ')', '(', '(', ')'], ['(', '(', ')', '(', ')', '('], ['(', '(', ')', '(', ')', ')'], ['(', '(', ')', ')', '(', '('], ['(', '(', ')', ')', '(', ')'], ['(', '(', ')', ')', ')', '('], ['(', '(', ')', ')', ')', ')'], ['(', ')', '(', '(', '(', '('], ['(', ')', '(', '(', '(', ')'], ['(', ')', '(', '(', ')', '('], ['(', ')', '(', '(', ')', ')'], ['(', ')', '(', ')', '(', '('], ['(', ')', '(', ')', '(', ')'], ['(', ')', '(', ')', ')', '('], ['(', ')', '(', ')', ')', ')'], ['(', ')', ')', '(', '(', '('], ['(', ')', ')', '(', '(', ')'], ['(', ')', ')', '(', ')', '('], ['(', ')', ')', '(', ')', ')'], ['(', ')', ')', ')', '(', '('], ['(', ')', ')', ')', '(', ')'], ['(', ')', ')', ')', ')', '('], ['(', ')', ')', ')', ')', ')'], [')', '(', '(', '(', '(', '('], [')', '(', '(', '(', '(', ')'], [')', '(', '(', '(', ')', '('], [')', '(', '(', '(', ')', ')'], [')', '(', '(', ')', '(', '('], [')', '(', '(', ')', '(', ')'], [')', '(', '(', ')', ')', '('], [')', '(', '(', ')', ')', ')'], [')', '(', ')', '(', '(', '('], [')', '(', ')', '(', '(', ')'], [')', '(', ')', '(', ')', '('], [')', '(', ')', '(', ')', ')'], [')', '(', ')', ')', '(', '('], [')', '(', ')', ')', '(', ')'], [')', '(', ')', ')', ')', '('], [')', '(', ')', ')', ')', ')'], [')', ')', '(', '(', '(', '('], [')', ')', '(', '(', '(', ')'], [')', ')', '(', '(', ')', '('], [')', ')', '(', '(', ')', ')'], [')', ')', '(', ')', '(', '('], [')', ')', '(', ')', '(', ')'], [')', ')', '(', ')', ')', '('], [')', ')', '(', ')', ')', ')'], [')', ')', ')', '(', '(', '('], [')', ')', ')', '(', '(', ')'], [')', ')', ')', '(', ')', '('], [')', ')', ')', '(', ')', ')'], [')', ')', ')', ')', '(', '('], [')', ')', ')', ')', '(', ')'], [')', ')', ')', ')', ')', '('], [')', ')', ')', ')', ')', ')']]\n"
     ]
    }
   ],
   "execution_count": 59
  }
 ],
 "metadata": {
  "kernelspec": {
   "display_name": "Python 3",
   "language": "python",
   "name": "python3"
  },
  "language_info": {
   "codemirror_mode": {
    "name": "ipython",
    "version": 2
   },
   "file_extension": ".py",
   "mimetype": "text/x-python",
   "name": "python",
   "nbconvert_exporter": "python",
   "pygments_lexer": "ipython2",
   "version": "2.7.6"
  }
 },
 "nbformat": 4,
 "nbformat_minor": 5
}
