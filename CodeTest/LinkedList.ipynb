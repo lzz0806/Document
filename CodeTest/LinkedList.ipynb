{
 "cells": [
  {
   "cell_type": "code",
   "id": "initial_id",
   "metadata": {
    "collapsed": true,
    "ExecuteTime": {
     "end_time": "2025-02-18T09:49:28.547362Z",
     "start_time": "2025-02-18T09:49:28.541144Z"
    }
   },
   "source": [
    "class LinkNode:\n",
    "\n",
    "    def __init__(self, x):\n",
    "        self.val = x\n",
    "        self.next = None\n",
    "\n",
    "\n",
    "def createLinkedList(array) -> LinkNode:\n",
    "    if array is None or len(array) == 0:\n",
    "        return None\n",
    "\n",
    "    head = LinkNode(array[0])\n",
    "    cur = head\n",
    "    for i in range(1, len(array)):\n",
    "        cur.next = LinkNode(array[i])\n",
    "        cur = cur.next\n",
    "    return head\n",
    "\n",
    "def print_linked_list(head: LinkNode):\n",
    "    res = ''\n",
    "    p = head\n",
    "    while p:\n",
    "        res += f\"{p.val} -> \"\n",
    "        p = p.next\n",
    "    print(res[:-4])"
   ],
   "outputs": [
    {
     "name": "stdout",
     "output_type": "stream",
     "text": [
      "1 -> 2 -> 3 -> 5\n"
     ]
    }
   ],
   "execution_count": 3
  },
  {
   "metadata": {},
   "cell_type": "code",
   "outputs": [],
   "execution_count": null,
   "source": "",
   "id": "da23dc318d428347"
  },
  {
   "metadata": {},
   "cell_type": "markdown",
   "source": "# 在链表中增加节点",
   "id": "98e912267b5d309a"
  },
  {
   "metadata": {
    "ExecuteTime": {
     "end_time": "2025-02-18T09:50:41.887701Z",
     "start_time": "2025-02-18T09:50:41.883347Z"
    }
   },
   "cell_type": "code",
   "source": [
    "def add_node_to_head(head: LinkNode, val: int):\n",
    "    new_head = LinkNode(val)\n",
    "    new_head.next = head\n",
    "    head = new_head\n",
    "    print_linked_list(head)\n",
    "\n",
    "\n",
    "def add_node_to_tail(head: LinkNode, val: int):\n",
    "    p = head\n",
    "    while p.next:\n",
    "        p = p.next\n",
    "    p.next = LinkNode(val)\n",
    "    print_linked_list(head)\n",
    "\n",
    "\n",
    "def add_node_to_linked(head: LinkNode, val: int, nums: int):\n",
    "\n",
    "    p = head\n",
    "    for i in range(nums-1):\n",
    "        p = p.next\n",
    "    pre_head = p.next\n",
    "    p.next = LinkNode(val)\n",
    "    p.next.next = pre_head\n",
    "    print_linked_list(head)\n",
    "\n",
    "linked_head = createLinkedList([1, 2, 3, 4, 5])\n",
    "add_node_to_head(linked_head, 6)\n",
    "# add_node_to_tail(linked_head, 444)\n",
    "# add_node_to_linked(linked_head, 445, 2)"
   ],
   "id": "947851e259472f4",
   "outputs": [
    {
     "name": "stdout",
     "output_type": "stream",
     "text": [
      "6 -> 1 -> 2 -> 3 -> 4 -> 5\n"
     ]
    }
   ],
   "execution_count": 4
  },
  {
   "metadata": {},
   "cell_type": "markdown",
   "source": "# 在链表中删除节点",
   "id": "946fcfd8d078512"
  },
  {
   "metadata": {
    "ExecuteTime": {
     "end_time": "2025-02-18T09:51:42.575617Z",
     "start_time": "2025-02-18T09:51:42.571560Z"
    }
   },
   "cell_type": "code",
   "source": [
    "def del_node_to_linked(head: LinkNode, nums: int):\n",
    "    p = head\n",
    "    for i in range(nums-2):\n",
    "        p = p.next\n",
    "    p.next = p.next.next\n",
    "    print_linked_list(head)\n",
    "\n",
    "\n",
    "linked_head = createLinkedList([1, 2, 3, 4, 5])\n",
    "# add_node_to_head(linked_head, 6)\n",
    "# add_node_to_tail(linked_head, 444)\n",
    "# add_node_to_linked(linked_head, 445, 2)\n",
    "del_node_to_linked(linked_head, 4)"
   ],
   "id": "12182ed10e34d3e4",
   "outputs": [
    {
     "name": "stdout",
     "output_type": "stream",
     "text": [
      "1 -> 2 -> 3 -> 5\n"
     ]
    }
   ],
   "execution_count": 6
  },
  {
   "metadata": {},
   "cell_type": "code",
   "outputs": [],
   "execution_count": null,
   "source": "",
   "id": "9543da165d68b44c"
  }
 ],
 "metadata": {
  "kernelspec": {
   "display_name": "Python 3",
   "language": "python",
   "name": "python3"
  },
  "language_info": {
   "codemirror_mode": {
    "name": "ipython",
    "version": 2
   },
   "file_extension": ".py",
   "mimetype": "text/x-python",
   "name": "python",
   "nbconvert_exporter": "python",
   "pygments_lexer": "ipython2",
   "version": "2.7.6"
  }
 },
 "nbformat": 4,
 "nbformat_minor": 5
}
