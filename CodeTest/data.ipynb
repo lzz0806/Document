{
 "cells": [
  {
   "cell_type": "code",
   "execution_count": 1,
   "metadata": {},
   "outputs": [],
   "source": [
    "import pandas as pd\n",
    "\n",
    "data = {'ID': [101, 102, 103, 104, 105],\n",
    "        'Name': ['Alice', 'Bob', 'Charlie', 'David', 'Eva'],\n",
    "        'Age': [25, 30, 22, 35, 28],\n",
    "        'Salary': [50000, 60000, 45000, 75000, 55000],\n",
    "        'Status': ['Active', 'Inactive', 'Active', 'Active', 'Inactive']}\n",
    "\n",
    "df = pd.DataFrame(data)"
   ]
  }
 ],
 "metadata": {
  "kernelspec": {
   "display_name": "xxsim",
   "language": "python",
   "name": "python3"
  },
  "language_info": {
   "codemirror_mode": {
    "name": "ipython",
    "version": 3
   },
   "file_extension": ".py",
   "mimetype": "text/x-python",
   "name": "python",
   "nbconvert_exporter": "python",
   "pygments_lexer": "ipython3",
   "version": "3.9.6"
  }
 },
 "nbformat": 4,
 "nbformat_minor": 2
}
