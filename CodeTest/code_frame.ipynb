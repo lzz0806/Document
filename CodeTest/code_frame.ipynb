{
 "cells": [
  {
   "cell_type": "markdown",
   "source": [
    "#  刷题框架\n",
    "## 二叉树\n",
    "### 前序遍历"
   ],
   "metadata": {
    "collapsed": false
   },
   "id": "4cbe446b8a624f76"
  },
  {
   "cell_type": "code",
   "outputs": [],
   "source": [
    "from typing import List\n",
    "\n",
    "\n",
    "class TreeNode:\n",
    "\n",
    "    def __init__(self, val):\n",
    "        self.val = val\n",
    "        self.left = None\n",
    "        self.right = None\n",
    "        self.children: List[TreeNode] = []\n",
    "\n",
    "\n",
    "def create_tree() -> TreeNode:\n",
    "    root = TreeNode(1)\n",
    "    root.left = TreeNode(2)\n",
    "    root.right = TreeNode(3)\n",
    "    root.left.left = TreeNode(4)\n",
    "    root.left.right = TreeNode(5)\n",
    "    root.right.left = TreeNode(6)\n",
    "    root.left.left.left = TreeNode(7)\n",
    "    return root\n",
    "\n",
    "def create_n_tree():\n",
    "    \n",
    "    root = TreeNode(1)\n",
    "    root.children.append(TreeNode(2))\n",
    "    root.children.append(TreeNode(3))\n",
    "    root.children.append(TreeNode(4))\n",
    "    root.children[0].children.append(TreeNode(5))\n",
    "    root.children[0].children.append(TreeNode(6))\n",
    "    root.children[0].children.append(TreeNode(7))\n",
    "    return root"
   ],
   "metadata": {
    "collapsed": false,
    "ExecuteTime": {
     "end_time": "2025-03-01T09:07:09.492535Z",
     "start_time": "2025-03-01T09:07:09.486342Z"
    }
   },
   "id": "80135677550c41b1",
   "execution_count": 74
  },
  {
   "cell_type": "code",
   "execution_count": 75,
   "id": "initial_id",
   "metadata": {
    "collapsed": true,
    "ExecuteTime": {
     "end_time": "2025-03-01T09:07:09.502284Z",
     "start_time": "2025-03-01T09:07:09.498293Z"
    }
   },
   "outputs": [
    {
     "name": "stdout",
     "output_type": "stream",
     "text": [
      "[1, 2, 4, 7, 5, 3, 6]\n"
     ]
    }
   ],
   "source": [
    "class Solution:\n",
    "    \n",
    "    def __init__(self):\n",
    "        self.val = []\n",
    "    \n",
    "    def traverse(self, root: TreeNode):\n",
    "        if root is None:\n",
    "            return\n",
    "        # 前序遍历\n",
    "        self.val.append(root.val)\n",
    "        self.traverse(root.left)\n",
    "        # 中序遍历\n",
    "        self.traverse(root.right)\n",
    "        # 后序遍历\n",
    "        return self.val\n",
    "\n",
    "s = Solution()\n",
    "print(s.traverse(create_tree()))\n"
   ]
  },
  {
   "cell_type": "code",
   "outputs": [],
   "source": [
    "### 二叉树中序遍历"
   ],
   "metadata": {
    "collapsed": false,
    "ExecuteTime": {
     "end_time": "2025-03-01T09:07:09.520883Z",
     "start_time": "2025-03-01T09:07:09.518443Z"
    }
   },
   "id": "e7ef1561ace72d38",
   "execution_count": 76
  },
  {
   "cell_type": "code",
   "outputs": [
    {
     "name": "stdout",
     "output_type": "stream",
     "text": [
      "[7, 4, 2, 5, 1, 6, 3]\n"
     ]
    }
   ],
   "source": [
    "class Solution:\n",
    "    \n",
    "    def __init__(self):\n",
    "        self.val = []\n",
    "    \n",
    "    def traverse(self, root: TreeNode):\n",
    "        if root is None:\n",
    "            return\n",
    "        # 前序遍历\n",
    "        self.traverse(root.left)\n",
    "        # 中序遍历\n",
    "        self.val.append(root.val)\n",
    "        self.traverse(root.right)\n",
    "        # 后序遍历\n",
    "        return self.val\n",
    "\n",
    "s = Solution()\n",
    "print(s.traverse(create_tree()))"
   ],
   "metadata": {
    "collapsed": false,
    "ExecuteTime": {
     "end_time": "2025-03-01T09:07:09.529817Z",
     "start_time": "2025-03-01T09:07:09.525592Z"
    }
   },
   "id": "ae4cf1049a55226a",
   "execution_count": 77
  },
  {
   "cell_type": "markdown",
   "source": [
    "### 后序遍历"
   ],
   "metadata": {
    "collapsed": false
   },
   "id": "e7b71c1b30134186"
  },
  {
   "cell_type": "code",
   "outputs": [
    {
     "name": "stdout",
     "output_type": "stream",
     "text": [
      "[7, 4, 5, 2, 6, 3, 1]\n"
     ]
    }
   ],
   "source": [
    "class Solution:\n",
    "    \n",
    "    def __init__(self):\n",
    "        self.val = []\n",
    "    \n",
    "    def traverse(self, root: TreeNode):\n",
    "        if root is None:\n",
    "            return\n",
    "        # 前序遍历\n",
    "        self.traverse(root.left)\n",
    "        # 中序遍历\n",
    "        self.traverse(root.right)\n",
    "        self.val.append(root.val)\n",
    "        # 后序遍历\n",
    "        return self.val\n",
    "\n",
    "s = Solution()\n",
    "print(s.traverse(create_tree()))"
   ],
   "metadata": {
    "collapsed": false,
    "ExecuteTime": {
     "end_time": "2025-03-01T09:07:09.535827Z",
     "start_time": "2025-03-01T09:07:09.531829Z"
    }
   },
   "id": "9c49dea41a477df",
   "execution_count": 78
  },
  {
   "cell_type": "markdown",
   "source": [
    "### 层序遍历"
   ],
   "metadata": {
    "collapsed": false
   },
   "id": "d88f3f61210e4398"
  },
  {
   "cell_type": "code",
   "outputs": [
    {
     "name": "stdout",
     "output_type": "stream",
     "text": [
      "[1, 2, 3, 4, 5, 6, 7]\n"
     ]
    }
   ],
   "source": [
    "class Solution:\n",
    "    \n",
    "    def __init__(self):\n",
    "        self.val = []\n",
    "    \n",
    "    def traverse(self, root: TreeNode):\n",
    "        if not root:\n",
    "            return\n",
    "        queue = [root]\n",
    "        while queue:\n",
    "            \n",
    "            node = queue.pop(0)\n",
    "            self.val.append(node.val)\n",
    "            if node.left is not None:\n",
    "                queue.append(node.left)\n",
    "            if node.right is not None:\n",
    "                queue.append(node.right)\n",
    "        return self.val\n",
    "            \n",
    "\n",
    "s = Solution()\n",
    "print(s.traverse(create_tree()))"
   ],
   "metadata": {
    "collapsed": false,
    "ExecuteTime": {
     "end_time": "2025-03-01T09:07:09.543071Z",
     "start_time": "2025-03-01T09:07:09.537927Z"
    }
   },
   "id": "8e2827cba4df187c",
   "execution_count": 79
  },
  {
   "cell_type": "markdown",
   "source": [
    "## 层序遍历到列表中"
   ],
   "metadata": {
    "collapsed": false
   },
   "id": "bf57811a986a7ce1"
  },
  {
   "cell_type": "code",
   "outputs": [
    {
     "name": "stdout",
     "output_type": "stream",
     "text": [
      "[[(1, 1)], [(2, 2), (3, 2)], [(4, 3), (5, 3), (6, 3)], [(7, 4)]]\n"
     ]
    }
   ],
   "source": [
    "class Solution:\n",
    "    \n",
    "    def __init__(self):\n",
    "        self.val = []\n",
    "    \n",
    "    def traverse(self, root: TreeNode):\n",
    "        if not root:\n",
    "            return\n",
    "        queue = [root]\n",
    "        # 增加深度\n",
    "        depth = 1\n",
    "        while queue:\n",
    "            tmp = []\n",
    "            for i in range(len(queue)):\n",
    "                node = queue.pop(0)\n",
    "                tmp.append((node.val, depth))\n",
    "                if node.left is not None:\n",
    "                    queue.append(node.left)\n",
    "                if node.right is not None:\n",
    "                    queue.append(node.right)\n",
    "            self.val.append(tmp)\n",
    "            depth += 1\n",
    "        return self.val\n",
    "            \n",
    "\n",
    "s = Solution()\n",
    "print(s.traverse(create_tree()))"
   ],
   "metadata": {
    "collapsed": false,
    "ExecuteTime": {
     "end_time": "2025-03-01T09:07:09.549611Z",
     "start_time": "2025-03-01T09:07:09.544602Z"
    }
   },
   "id": "d8cf6a66ec51f84f",
   "execution_count": 80
  },
  {
   "cell_type": "markdown",
   "source": [
    "# N叉树遍历"
   ],
   "metadata": {
    "collapsed": false
   },
   "id": "1f243b31aa8019ee"
  },
  {
   "cell_type": "markdown",
   "source": [
    "### N叉树前序、后序遍历"
   ],
   "metadata": {
    "collapsed": false
   },
   "id": "838ca8238ecbfecc"
  },
  {
   "cell_type": "code",
   "outputs": [
    {
     "name": "stdout",
     "output_type": "stream",
     "text": [
      "[1, 2, 5, 6, 7, 3, 4]\n"
     ]
    }
   ],
   "source": [
    "class Solution:\n",
    "    \n",
    "    def __init__(self):\n",
    "        self.val = []\n",
    "    \n",
    "    def traverse_n_ary_tree(self, root: TreeNode):\n",
    "        if not root:\n",
    "            return \n",
    "        self.val.append(root.val) # 前序遍历\n",
    "        for child in root.children:\n",
    "            self.traverse_n_ary_tree(child)\n",
    "        # self.val.append(root.val) # 后序遍历\n",
    "        return self.val\n",
    "s = Solution()\n",
    "print(s.traverse_n_ary_tree(create_n_tree()))"
   ],
   "metadata": {
    "collapsed": false,
    "ExecuteTime": {
     "end_time": "2025-03-01T09:10:59.902678Z",
     "start_time": "2025-03-01T09:10:59.897776Z"
    }
   },
   "id": "10970b1df8e981b0",
   "execution_count": 85
  },
  {
   "cell_type": "markdown",
   "source": [
    "### N叉树层序遍历"
   ],
   "metadata": {
    "collapsed": false
   },
   "id": "8731dcf82fd43e2f"
  },
  {
   "cell_type": "code",
   "outputs": [
    {
     "name": "stdout",
     "output_type": "stream",
     "text": [
      "[[1], [2, 3, 4], [5, 6, 7]]\n"
     ]
    }
   ],
   "source": [
    "class Solution:\n",
    "    \n",
    "    def __init__(self):\n",
    "        self.val = []\n",
    "    \n",
    "    def level_order_traversal(self, root: TreeNode):\n",
    "        if not root:\n",
    "            return \n",
    "        queue = [root]\n",
    "        while queue:\n",
    "            tmp = []\n",
    "            for _ in range(len(queue)):\n",
    "                node = queue.pop(0)\n",
    "                tmp.append(node.val)\n",
    "                for child in node.children:\n",
    "                    queue.append(child)\n",
    "            self.val.append(tmp)\n",
    "        return self.val\n",
    "s = Solution()\n",
    "print(s.level_order_traversal(create_n_tree()))"
   ],
   "metadata": {
    "collapsed": false,
    "ExecuteTime": {
     "end_time": "2025-03-01T09:15:24.550215Z",
     "start_time": "2025-03-01T09:15:24.544084Z"
    }
   },
   "id": "feecd9a4cd24cc6f",
   "execution_count": 87
  },
  {
   "cell_type": "code",
   "outputs": [
    {
     "name": "stdout",
     "output_type": "stream",
     "text": [
      "[6, 5, 4, 3, 2, 1]\n"
     ]
    }
   ],
   "source": [
    "###  用递归的方式打印一个树组\n",
    "def print_array(array):\n",
    "    res = []\n",
    "    def traverse(result):\n",
    "        if len(result) == 0:\n",
    "            return\n",
    "        res.append(result.pop())\n",
    "        traverse(result)\n",
    "    traverse(array)\n",
    "    return res\n",
    "\n",
    "\n",
    "print(print_array([1, 2, 3, 4, 5, 6]))\n",
    "    \n",
    "    "
   ],
   "metadata": {
    "collapsed": false,
    "ExecuteTime": {
     "end_time": "2025-03-01T09:36:37.126959Z",
     "start_time": "2025-03-01T09:36:37.121935Z"
    }
   },
   "id": "1764311e34e2af2a",
   "execution_count": 92
  },
  {
   "cell_type": "markdown",
   "source": [],
   "metadata": {
    "collapsed": false
   },
   "id": "2dd24251da7c71e"
  }
 ],
 "metadata": {
  "kernelspec": {
   "display_name": "Python 3",
   "language": "python",
   "name": "python3"
  },
  "language_info": {
   "codemirror_mode": {
    "name": "ipython",
    "version": 2
   },
   "file_extension": ".py",
   "mimetype": "text/x-python",
   "name": "python",
   "nbconvert_exporter": "python",
   "pygments_lexer": "ipython2",
   "version": "2.7.6"
  }
 },
 "nbformat": 4,
 "nbformat_minor": 5
}
